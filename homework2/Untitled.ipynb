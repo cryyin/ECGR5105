{
 "cells": [
  {
   "cell_type": "code",
   "execution_count": null,
   "id": "620d0f50-7482-433d-9782-b72996f0ebea",
   "metadata": {},
   "outputs": [],
   "source": [
    "import numpy as np\n",
    "import pandas as pd\n",
    "import matplotlib. pyplot as plt\n",
    "from sklearn. model_selection import KFold\n",
    "from sklearn. model_selection import cross_val_score from sklearn.linear_model import LogisticRegression from sklearn import datasets\n",
    "from sklearn.metrics import confusion_matrix\n",
    "from sklearn.metrics import classification_report"
   ]
  },
  {
   "cell_type": "code",
   "execution_count": null,
   "id": "9acca9de-ac2f-4337-962e-3a87b4a994fb",
   "metadata": {},
   "outputs": [],
   "source": [
    "# Load the iris dataset\n",
    "iris = datasets.load_iris（）\n",
    "# Create X from the featurest\n",
    "X= iris.data\n",
    "# Create y from output\n",
    "y= iris.target\n",
    "X_train, x_test, y_train, y_test = train_test_split（X, y, test_size=0.3， random_state=# Create a scaler object\n",
    "SC = Standardscaler （）\n",
    "# Fit the scaler to the training data and transform\n",
    "X_train_std = sc.fit_transform（X_train）\n",
    "# Apply the scaler to the test data\n",
    "X_test_std = sc.transform（X_test）\n",
    "C = 【10， 1， .1， .001】\n",
    "for c in C：\n",
    "clf = LogisticRegression（penalty='11'， C=c, solver='liblinear'）\n",
    "clf.fit（X_train, y_train）\n",
    "print（'C：'， c）\n",
    "print（'Training accuracy：'， clf. score（X_train_std, y_train））\n",
    "print（'Test accuracy：'， clf.score（X_test_std, y_test））\n",
    "print（）"
   ]
  },
  {
   "cell_type": "code",
   "execution_count": null,
   "id": "0a8d8c0f-41ab-4891-8564-48a6453d3440",
   "metadata": {},
   "outputs": [],
   "source": [
    "# 5 folds selected\n",
    "kfold = KFold （n_splits=5， random_state=0， shuffle=True）\n",
    "model = LogisticRegression （solver='liblinear'）\n",
    "results = cross_val_score （model, X, y, cv=kfold）\n",
    "# Output the accuracy. Calculate the mean and std across all folds.\n",
    "print（\"Accuracy：%.3f%% （%.3%%）\" % （results.mean（）*100.0， results.std（）*100.0））"
   ]
  }
 ],
 "metadata": {
  "kernelspec": {
   "display_name": "Python 3 (ipykernel)",
   "language": "python",
   "name": "python3"
  },
  "language_info": {
   "codemirror_mode": {
    "name": "ipython",
    "version": 3
   },
   "file_extension": ".py",
   "mimetype": "text/x-python",
   "name": "python",
   "nbconvert_exporter": "python",
   "pygments_lexer": "ipython3",
   "version": "3.8.13"
  }
 },
 "nbformat": 4,
 "nbformat_minor": 5
}
