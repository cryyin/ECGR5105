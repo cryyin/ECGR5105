{
 "cells": [
  {
   "cell_type": "code",
   "execution_count": 1,
   "id": "bc40fa4d-98f9-42e6-943e-2df5ca30a4b0",
   "metadata": {},
   "outputs": [],
   "source": [
    "#importing libraries for numpy, plot and pandas\n",
    "\n",
    "import numpy as np\n",
    "import matplotlib.pyplot as plt\n",
    "import pandas as pd\n",
    "from sklearn.linear_model import LogisticRegression\n",
    "from sklearn. model_selection import KFold\n",
    "from sklearn. model_selection import cross_val_score \n",
    "from sklearn.linear_model import LogisticRegression \n",
    "from sklearn import datasets\n",
    "from sklearn.metrics import confusion_matrix\n",
    "from sklearn.metrics import classification_report"
   ]
  },
  {
   "cell_type": "code",
   "execution_count": 2,
   "id": "060c65d7-3592-4761-8ebf-00cd4d3849b8",
   "metadata": {},
   "outputs": [],
   "source": [
    "#reading the dataset\n",
    "\n",
    "dataset = datasets.load_breast_cancer()\n",
    "X = dataset.data\n",
    "Y = dataset.target"
   ]
  },
  {
   "cell_type": "code",
   "execution_count": 3,
   "id": "beecc673-7921-4f6a-bdc1-1396636c65cd",
   "metadata": {},
   "outputs": [],
   "source": [
    "#scaling the input data using standardiztion\n",
    "\n",
    "from sklearn.preprocessing import StandardScaler\n",
    "stdScale_X = StandardScaler()\n",
    "X = stdScale_X.fit_transform(X)"
   ]
  },
  {
   "cell_type": "code",
   "execution_count": 4,
   "id": "8eeb8b15-b878-4396-a04e-34de8e13bfd2",
   "metadata": {},
   "outputs": [
    {
     "name": "stdout",
     "output_type": "stream",
     "text": [
      "Accuracy: 97.89473684210526 (2.0459480332790543)\n"
     ]
    }
   ],
   "source": [
    "#Importing logistic regression and training the classifier\n",
    "\n",
    "# 5 folds selected\n",
    "kfold = KFold(n_splits=10,random_state=0,shuffle=True)\n",
    "model = LogisticRegression(solver='liblinear')\n",
    "results = cross_val_score(model,X,Y,cv=kfold)\n",
    "# Output the accuracy. Calculate the mean and std across all folds.\n",
    "out=\"Accuracy: \"+str(results.mean()*100.0)+\" (\"+str(results.std()*100.0)+\")\"\n",
    "print(out)"
   ]
  }
 ],
 "metadata": {
  "kernelspec": {
   "display_name": "Python 3 (ipykernel)",
   "language": "python",
   "name": "python3"
  },
  "language_info": {
   "codemirror_mode": {
    "name": "ipython",
    "version": 3
   },
   "file_extension": ".py",
   "mimetype": "text/x-python",
   "name": "python",
   "nbconvert_exporter": "python",
   "pygments_lexer": "ipython3",
   "version": "3.8.13"
  }
 },
 "nbformat": 4,
 "nbformat_minor": 5
}
