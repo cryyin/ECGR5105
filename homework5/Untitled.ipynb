{
 "cells": [
  {
   "cell_type": "code",
   "execution_count": 29,
   "id": "185a5427-72f7-47a7-a953-293e034368bf",
   "metadata": {},
   "outputs": [],
   "source": [
    "import torch\n",
    "import math"
   ]
  },
  {
   "cell_type": "code",
   "execution_count": 30,
   "id": "355a9769-66a4-4276-b9b4-2dccd24410e2",
   "metadata": {},
   "outputs": [],
   "source": [
    "# In [2] :\n",
    "t_c = [0.5, 14.0, 15.0, 28.0, 11.0, 8.0, 3.0, -4.0, 6.0, 13.0, 21.0]\n",
    "t_u = [35.7, 55.9, 58.2, 81.9, 56.3, 48.9, 33.9, 21.8, 48.4, 60.4, 68.4]\n",
    "t_c = torch.tensor (t_c)\n",
    "t_u = torch.tensor (t_u)"
   ]
  },
  {
   "cell_type": "code",
   "execution_count": 31,
   "id": "ce28e410-7d42-47cc-be59-34c338831719",
   "metadata": {},
   "outputs": [],
   "source": [
    "def model (t_u, w, b) :\n",
    "    return w* t_u + b"
   ]
  },
  {
   "cell_type": "code",
   "execution_count": 32,
   "id": "78e958b1-5830-4567-883a-fff202307875",
   "metadata": {},
   "outputs": [],
   "source": [
    "def loss_fn (t_p, t_c) :\n",
    "    squared_diffs = (t_p - t_c) **2\n",
    "    return squared_diffs.mean()"
   ]
  },
  {
   "cell_type": "code",
   "execution_count": 33,
   "id": "74c22a2c-4757-425f-b6a0-21f4ebf871f9",
   "metadata": {},
   "outputs": [
    {
     "data": {
      "text/plain": [
       "tensor([35.7000, 55.9000, 58.2000, 81.9000, 56.3000, 48.9000, 33.9000, 21.8000,\n",
       "        48.4000, 60.4000, 68.4000])"
      ]
     },
     "execution_count": 33,
     "metadata": {},
     "output_type": "execute_result"
    }
   ],
   "source": [
    "# In [5] :\n",
    "w= torch.ones(())                     #initial W is 1\n",
    "b = torch.zeros(())                  #initial b is 0\n",
    "t_p= model(t_u, w, b)\n",
    "t_p"
   ]
  },
  {
   "cell_type": "code",
   "execution_count": 34,
   "id": "f78a211a-5472-474b-a08b-67e962b9228c",
   "metadata": {},
   "outputs": [
    {
     "data": {
      "text/plain": [
       "tensor(1763.8848)"
      ]
     },
     "execution_count": 34,
     "metadata": {},
     "output_type": "execute_result"
    }
   ],
   "source": [
    "# In [6] :\n",
    "loss = loss_fn(t_p, t_c)\n",
    "loss"
   ]
  },
  {
   "cell_type": "code",
   "execution_count": 35,
   "id": "a79f1575-e288-4d9c-b5d4-c82116890f8f",
   "metadata": {},
   "outputs": [],
   "source": [
    "delta = 0.1\n",
    "loss_rate_of_change_w =(loss_fn (model (t_u, w + delta, b), t_c)-loss_fn(model(t_u, w - delta, b), t_c)) / (2.0 * delta)"
   ]
  },
  {
   "cell_type": "code",
   "execution_count": null,
   "id": "54830691-4b66-4f4c-892e-1b0d1795e061",
   "metadata": {},
   "outputs": [],
   "source": [
    "# In [9] :\n",
    "learning_rate = le-2 #means 0.01 as the changing rate for our parameters.\n",
    "w = w - learning_rate * loss_rate_of_change_w"
   ]
  },
  {
   "cell_type": "code",
   "execution_count": null,
   "id": "74ab50ff-cba1-4b9c-866c-6a47a06d832c",
   "metadata": {},
   "outputs": [],
   "source": [
    "# In [10] :\n",
    "loss_rate_of_change_b = (loss_fn (model (t_u, w, b + delta), t_c)\n",
    "loss_fn (model (t_u, w, b - delta), t c)) / (2.0 * delta)b= b - learning_rate * loss rate_of_change_b"
   ]
  }
 ],
 "metadata": {
  "kernelspec": {
   "display_name": "Python 3 (ipykernel)",
   "language": "python",
   "name": "python3"
  },
  "language_info": {
   "codemirror_mode": {
    "name": "ipython",
    "version": 3
   },
   "file_extension": ".py",
   "mimetype": "text/x-python",
   "name": "python",
   "nbconvert_exporter": "python",
   "pygments_lexer": "ipython3",
   "version": "3.9.13"
  }
 },
 "nbformat": 4,
 "nbformat_minor": 5
}
