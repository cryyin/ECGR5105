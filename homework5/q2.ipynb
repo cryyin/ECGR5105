{
 "cells": [
  {
   "cell_type": "code",
   "execution_count": 67,
   "id": "e170aea1",
   "metadata": {},
   "outputs": [],
   "source": [
    "from matplotlib import pyplot as plt\n",
    "import pandas as pd\n",
    "import numpy as np\n",
    "import torch\n",
    "import torch.optim as optim\n",
    "from sklearn.preprocessing import MinMaxScaler, StandardScaler"
   ]
  },
  {
   "cell_type": "code",
   "execution_count": 68,
   "id": "f4ea3f3d",
   "metadata": {},
   "outputs": [
    {
     "data": {
      "text/html": [
       "<div>\n",
       "<style scoped>\n",
       "    .dataframe tbody tr th:only-of-type {\n",
       "        vertical-align: middle;\n",
       "    }\n",
       "\n",
       "    .dataframe tbody tr th {\n",
       "        vertical-align: top;\n",
       "    }\n",
       "\n",
       "    .dataframe thead th {\n",
       "        text-align: right;\n",
       "    }\n",
       "</style>\n",
       "<table border=\"1\" class=\"dataframe\">\n",
       "  <thead>\n",
       "    <tr style=\"text-align: right;\">\n",
       "      <th></th>\n",
       "      <th>price</th>\n",
       "      <th>area</th>\n",
       "      <th>bedrooms</th>\n",
       "      <th>bathrooms</th>\n",
       "      <th>stories</th>\n",
       "      <th>mainroad</th>\n",
       "      <th>guestroom</th>\n",
       "      <th>basement</th>\n",
       "      <th>hotwaterheating</th>\n",
       "      <th>airconditioning</th>\n",
       "      <th>parking</th>\n",
       "      <th>prefarea</th>\n",
       "      <th>furnishingstatus</th>\n",
       "    </tr>\n",
       "  </thead>\n",
       "  <tbody>\n",
       "    <tr>\n",
       "      <th>0</th>\n",
       "      <td>13300000</td>\n",
       "      <td>7420</td>\n",
       "      <td>4</td>\n",
       "      <td>2</td>\n",
       "      <td>3</td>\n",
       "      <td>yes</td>\n",
       "      <td>no</td>\n",
       "      <td>no</td>\n",
       "      <td>no</td>\n",
       "      <td>yes</td>\n",
       "      <td>2</td>\n",
       "      <td>yes</td>\n",
       "      <td>furnished</td>\n",
       "    </tr>\n",
       "    <tr>\n",
       "      <th>1</th>\n",
       "      <td>12250000</td>\n",
       "      <td>8960</td>\n",
       "      <td>4</td>\n",
       "      <td>4</td>\n",
       "      <td>4</td>\n",
       "      <td>yes</td>\n",
       "      <td>no</td>\n",
       "      <td>no</td>\n",
       "      <td>no</td>\n",
       "      <td>yes</td>\n",
       "      <td>3</td>\n",
       "      <td>no</td>\n",
       "      <td>furnished</td>\n",
       "    </tr>\n",
       "    <tr>\n",
       "      <th>2</th>\n",
       "      <td>12250000</td>\n",
       "      <td>9960</td>\n",
       "      <td>3</td>\n",
       "      <td>2</td>\n",
       "      <td>2</td>\n",
       "      <td>yes</td>\n",
       "      <td>no</td>\n",
       "      <td>yes</td>\n",
       "      <td>no</td>\n",
       "      <td>no</td>\n",
       "      <td>2</td>\n",
       "      <td>yes</td>\n",
       "      <td>semi-furnished</td>\n",
       "    </tr>\n",
       "    <tr>\n",
       "      <th>3</th>\n",
       "      <td>12215000</td>\n",
       "      <td>7500</td>\n",
       "      <td>4</td>\n",
       "      <td>2</td>\n",
       "      <td>2</td>\n",
       "      <td>yes</td>\n",
       "      <td>no</td>\n",
       "      <td>yes</td>\n",
       "      <td>no</td>\n",
       "      <td>yes</td>\n",
       "      <td>3</td>\n",
       "      <td>yes</td>\n",
       "      <td>furnished</td>\n",
       "    </tr>\n",
       "    <tr>\n",
       "      <th>4</th>\n",
       "      <td>11410000</td>\n",
       "      <td>7420</td>\n",
       "      <td>4</td>\n",
       "      <td>1</td>\n",
       "      <td>2</td>\n",
       "      <td>yes</td>\n",
       "      <td>yes</td>\n",
       "      <td>yes</td>\n",
       "      <td>no</td>\n",
       "      <td>yes</td>\n",
       "      <td>2</td>\n",
       "      <td>no</td>\n",
       "      <td>furnished</td>\n",
       "    </tr>\n",
       "    <tr>\n",
       "      <th>...</th>\n",
       "      <td>...</td>\n",
       "      <td>...</td>\n",
       "      <td>...</td>\n",
       "      <td>...</td>\n",
       "      <td>...</td>\n",
       "      <td>...</td>\n",
       "      <td>...</td>\n",
       "      <td>...</td>\n",
       "      <td>...</td>\n",
       "      <td>...</td>\n",
       "      <td>...</td>\n",
       "      <td>...</td>\n",
       "      <td>...</td>\n",
       "    </tr>\n",
       "    <tr>\n",
       "      <th>540</th>\n",
       "      <td>1820000</td>\n",
       "      <td>3000</td>\n",
       "      <td>2</td>\n",
       "      <td>1</td>\n",
       "      <td>1</td>\n",
       "      <td>yes</td>\n",
       "      <td>no</td>\n",
       "      <td>yes</td>\n",
       "      <td>no</td>\n",
       "      <td>no</td>\n",
       "      <td>2</td>\n",
       "      <td>no</td>\n",
       "      <td>unfurnished</td>\n",
       "    </tr>\n",
       "    <tr>\n",
       "      <th>541</th>\n",
       "      <td>1767150</td>\n",
       "      <td>2400</td>\n",
       "      <td>3</td>\n",
       "      <td>1</td>\n",
       "      <td>1</td>\n",
       "      <td>no</td>\n",
       "      <td>no</td>\n",
       "      <td>no</td>\n",
       "      <td>no</td>\n",
       "      <td>no</td>\n",
       "      <td>0</td>\n",
       "      <td>no</td>\n",
       "      <td>semi-furnished</td>\n",
       "    </tr>\n",
       "    <tr>\n",
       "      <th>542</th>\n",
       "      <td>1750000</td>\n",
       "      <td>3620</td>\n",
       "      <td>2</td>\n",
       "      <td>1</td>\n",
       "      <td>1</td>\n",
       "      <td>yes</td>\n",
       "      <td>no</td>\n",
       "      <td>no</td>\n",
       "      <td>no</td>\n",
       "      <td>no</td>\n",
       "      <td>0</td>\n",
       "      <td>no</td>\n",
       "      <td>unfurnished</td>\n",
       "    </tr>\n",
       "    <tr>\n",
       "      <th>543</th>\n",
       "      <td>1750000</td>\n",
       "      <td>2910</td>\n",
       "      <td>3</td>\n",
       "      <td>1</td>\n",
       "      <td>1</td>\n",
       "      <td>no</td>\n",
       "      <td>no</td>\n",
       "      <td>no</td>\n",
       "      <td>no</td>\n",
       "      <td>no</td>\n",
       "      <td>0</td>\n",
       "      <td>no</td>\n",
       "      <td>furnished</td>\n",
       "    </tr>\n",
       "    <tr>\n",
       "      <th>544</th>\n",
       "      <td>1750000</td>\n",
       "      <td>3850</td>\n",
       "      <td>3</td>\n",
       "      <td>1</td>\n",
       "      <td>2</td>\n",
       "      <td>yes</td>\n",
       "      <td>no</td>\n",
       "      <td>no</td>\n",
       "      <td>no</td>\n",
       "      <td>no</td>\n",
       "      <td>0</td>\n",
       "      <td>no</td>\n",
       "      <td>unfurnished</td>\n",
       "    </tr>\n",
       "  </tbody>\n",
       "</table>\n",
       "<p>545 rows × 13 columns</p>\n",
       "</div>"
      ],
      "text/plain": [
       "        price  area  bedrooms  bathrooms  stories mainroad guestroom basement  \\\n",
       "0    13300000  7420         4          2        3      yes        no       no   \n",
       "1    12250000  8960         4          4        4      yes        no       no   \n",
       "2    12250000  9960         3          2        2      yes        no      yes   \n",
       "3    12215000  7500         4          2        2      yes        no      yes   \n",
       "4    11410000  7420         4          1        2      yes       yes      yes   \n",
       "..        ...   ...       ...        ...      ...      ...       ...      ...   \n",
       "540   1820000  3000         2          1        1      yes        no      yes   \n",
       "541   1767150  2400         3          1        1       no        no       no   \n",
       "542   1750000  3620         2          1        1      yes        no       no   \n",
       "543   1750000  2910         3          1        1       no        no       no   \n",
       "544   1750000  3850         3          1        2      yes        no       no   \n",
       "\n",
       "    hotwaterheating airconditioning  parking prefarea furnishingstatus  \n",
       "0                no             yes        2      yes        furnished  \n",
       "1                no             yes        3       no        furnished  \n",
       "2                no              no        2      yes   semi-furnished  \n",
       "3                no             yes        3      yes        furnished  \n",
       "4                no             yes        2       no        furnished  \n",
       "..              ...             ...      ...      ...              ...  \n",
       "540              no              no        2       no      unfurnished  \n",
       "541              no              no        0       no   semi-furnished  \n",
       "542              no              no        0       no      unfurnished  \n",
       "543              no              no        0       no        furnished  \n",
       "544              no              no        0       no      unfurnished  \n",
       "\n",
       "[545 rows x 13 columns]"
      ]
     },
     "execution_count": 68,
     "metadata": {},
     "output_type": "execute_result"
    }
   ],
   "source": [
    "housing = pd.read_csv('Housing.csv')\n",
    "housing"
   ]
  },
  {
   "cell_type": "code",
   "execution_count": 69,
   "id": "d3a6e266",
   "metadata": {},
   "outputs": [],
   "source": [
    "num_vars = ['price', 'area', 'bedrooms', 'bathrooms', 'stories', 'parking']\n",
    "df_new = housing[num_vars]"
   ]
  },
  {
   "cell_type": "code",
   "execution_count": 70,
   "id": "4439e518",
   "metadata": {},
   "outputs": [
    {
     "name": "stderr",
     "output_type": "stream",
     "text": [
      "C:\\Users\\tareq\\.conda\\envs\\ML-5105\\lib\\site-packages\\pandas\\core\\frame.py:3678: SettingWithCopyWarning: \n",
      "A value is trying to be set on a copy of a slice from a DataFrame.\n",
      "Try using .loc[row_indexer,col_indexer] = value instead\n",
      "\n",
      "See the caveats in the documentation: https://pandas.pydata.org/pandas-docs/stable/user_guide/indexing.html#returning-a-view-versus-a-copy\n",
      "  self[col] = igetitem(value, i)\n"
     ]
    },
    {
     "data": {
      "text/html": [
       "<div>\n",
       "<style scoped>\n",
       "    .dataframe tbody tr th:only-of-type {\n",
       "        vertical-align: middle;\n",
       "    }\n",
       "\n",
       "    .dataframe tbody tr th {\n",
       "        vertical-align: top;\n",
       "    }\n",
       "\n",
       "    .dataframe thead th {\n",
       "        text-align: right;\n",
       "    }\n",
       "</style>\n",
       "<table border=\"1\" class=\"dataframe\">\n",
       "  <thead>\n",
       "    <tr style=\"text-align: right;\">\n",
       "      <th></th>\n",
       "      <th>price</th>\n",
       "      <th>area</th>\n",
       "      <th>bedrooms</th>\n",
       "      <th>bathrooms</th>\n",
       "      <th>stories</th>\n",
       "      <th>parking</th>\n",
       "    </tr>\n",
       "  </thead>\n",
       "  <tbody>\n",
       "    <tr>\n",
       "      <th>0</th>\n",
       "      <td>1.000000</td>\n",
       "      <td>0.396564</td>\n",
       "      <td>0.6</td>\n",
       "      <td>0.333333</td>\n",
       "      <td>0.666667</td>\n",
       "      <td>0.666667</td>\n",
       "    </tr>\n",
       "    <tr>\n",
       "      <th>1</th>\n",
       "      <td>0.909091</td>\n",
       "      <td>0.502405</td>\n",
       "      <td>0.6</td>\n",
       "      <td>1.000000</td>\n",
       "      <td>1.000000</td>\n",
       "      <td>1.000000</td>\n",
       "    </tr>\n",
       "    <tr>\n",
       "      <th>2</th>\n",
       "      <td>0.909091</td>\n",
       "      <td>0.571134</td>\n",
       "      <td>0.4</td>\n",
       "      <td>0.333333</td>\n",
       "      <td>0.333333</td>\n",
       "      <td>0.666667</td>\n",
       "    </tr>\n",
       "    <tr>\n",
       "      <th>3</th>\n",
       "      <td>0.906061</td>\n",
       "      <td>0.402062</td>\n",
       "      <td>0.6</td>\n",
       "      <td>0.333333</td>\n",
       "      <td>0.333333</td>\n",
       "      <td>1.000000</td>\n",
       "    </tr>\n",
       "    <tr>\n",
       "      <th>4</th>\n",
       "      <td>0.836364</td>\n",
       "      <td>0.396564</td>\n",
       "      <td>0.6</td>\n",
       "      <td>0.000000</td>\n",
       "      <td>0.333333</td>\n",
       "      <td>0.666667</td>\n",
       "    </tr>\n",
       "  </tbody>\n",
       "</table>\n",
       "</div>"
      ],
      "text/plain": [
       "      price      area  bedrooms  bathrooms   stories   parking\n",
       "0  1.000000  0.396564       0.6   0.333333  0.666667  0.666667\n",
       "1  0.909091  0.502405       0.6   1.000000  1.000000  1.000000\n",
       "2  0.909091  0.571134       0.4   0.333333  0.333333  0.666667\n",
       "3  0.906061  0.402062       0.6   0.333333  0.333333  1.000000\n",
       "4  0.836364  0.396564       0.6   0.000000  0.333333  0.666667"
      ]
     },
     "execution_count": 70,
     "metadata": {},
     "output_type": "execute_result"
    }
   ],
   "source": [
    "scaler = MinMaxScaler()\n",
    "df_new[num_vars] = scaler.fit_transform(df_new[num_vars])\n",
    "df_new.head()"
   ]
  },
  {
   "cell_type": "code",
   "execution_count": 71,
   "id": "7618416b",
   "metadata": {},
   "outputs": [],
   "source": [
    "X = df_new.iloc[:, 1:6].values\n",
    "Y = df_new.iloc[:, 0].values"
   ]
  },
  {
   "cell_type": "code",
   "execution_count": 72,
   "id": "0a70fba3",
   "metadata": {},
   "outputs": [],
   "source": [
    "X = torch.tensor(X)\n",
    "Y = torch.tensor(Y)"
   ]
  },
  {
   "cell_type": "code",
   "execution_count": 73,
   "id": "2eddeee2",
   "metadata": {},
   "outputs": [],
   "source": [
    "def model(X, W1, W2, W3, W4, W5, B):\n",
    "    return W5*X[:,4] + W4*X[:,3] + W3*X[:,2] + W2*X[:,1] + W1*X[:,0] + B"
   ]
  },
  {
   "cell_type": "code",
   "execution_count": 74,
   "id": "fa7e7884",
   "metadata": {},
   "outputs": [],
   "source": [
    "def loss_fn(Y_p, Y):\n",
    "    squared_diffs = (Y_p - Y)**2\n",
    "    return squared_diffs.mean()"
   ]
  },
  {
   "cell_type": "code",
   "execution_count": 75,
   "id": "78e7a1d7",
   "metadata": {},
   "outputs": [],
   "source": [
    "W1 = torch.ones(())\n",
    "W2 = torch.ones(())\n",
    "W3 = torch.ones(())\n",
    "W4 = torch.ones(())\n",
    "W5 = torch.ones(())\n",
    "B = torch.zeros(())"
   ]
  },
  {
   "cell_type": "code",
   "execution_count": 76,
   "id": "206fa7a0",
   "metadata": {},
   "outputs": [],
   "source": [
    "n_samples = X.shape[0]\n",
    "n_val = int(0.2 * n_samples)\n",
    "shuffled_indices = torch.randperm(n_samples)\n",
    "train_indices = shuffled_indices[:-n_val]\n",
    "val_indices = shuffled_indices[-n_val:]"
   ]
  },
  {
   "cell_type": "code",
   "execution_count": 77,
   "id": "885d3823",
   "metadata": {},
   "outputs": [],
   "source": [
    "train_X = X[train_indices]\n",
    "train_Y = Y[train_indices]\n",
    "val_X = X[val_indices]\n",
    "val_Y = Y[val_indices]"
   ]
  },
  {
   "cell_type": "code",
   "execution_count": 78,
   "id": "78b1cf5f",
   "metadata": {},
   "outputs": [],
   "source": [
    "def training_loop(n_epochs, optimizer, params, train_X, val_X, train_Y, val_Y):\n",
    "    \n",
    "    for epoch in range(1, n_epochs + 1):\n",
    "        train_Y_p = model(train_X, *params) \n",
    "        train_loss = loss_fn(train_Y_p, train_Y)\n",
    "                             \n",
    "        val_Y_p = model(val_X, *params) \n",
    "        val_loss = loss_fn(val_Y_p, val_Y)\n",
    "        \n",
    "        optimizer.zero_grad()\n",
    "        train_loss.backward() \n",
    "        optimizer.step()\n",
    "\n",
    "        if epoch % 500 == 0:\n",
    "            print(f\"Epoch {epoch}, Training loss {train_loss.item():.4f},\"\n",
    "                  f\" Validation loss {val_loss.item():.4f}\")\n",
    "            \n",
    "    return params"
   ]
  },
  {
   "cell_type": "code",
   "execution_count": 79,
   "id": "13fb77b3",
   "metadata": {},
   "outputs": [
    {
     "name": "stdout",
     "output_type": "stream",
     "text": [
      "Epoch 500, Training loss 0.0118, Validation loss 0.0104\n",
      "Epoch 1000, Training loss 0.0118, Validation loss 0.0104\n",
      "Epoch 1500, Training loss 0.0118, Validation loss 0.0104\n",
      "Epoch 2000, Training loss 0.0118, Validation loss 0.0104\n",
      "Epoch 2500, Training loss 0.0118, Validation loss 0.0104\n",
      "Epoch 3000, Training loss 0.0118, Validation loss 0.0104\n",
      "Epoch 3500, Training loss 0.0118, Validation loss 0.0104\n",
      "Epoch 4000, Training loss 0.0118, Validation loss 0.0104\n",
      "Epoch 4500, Training loss 0.0118, Validation loss 0.0104\n",
      "Epoch 5000, Training loss 0.0118, Validation loss 0.0104\n"
     ]
    },
    {
     "data": {
      "text/plain": [
       "tensor([0.4426, 0.0927, 0.2979, 0.1320, 0.0960, 0.0339], requires_grad=True)"
      ]
     },
     "execution_count": 79,
     "metadata": {},
     "output_type": "execute_result"
    }
   ],
   "source": [
    "params = torch.tensor([1.0, 1.0, 1.0, 1.0, 1.0, 0.0], requires_grad=True)\n",
    "learning_rate = 0.1\n",
    "optimizer = optim.Adam([params], lr=learning_rate)\n",
    "\n",
    "training_loop(\n",
    "    n_epochs = 5000, \n",
    "    optimizer = optimizer,\n",
    "    params = params,\n",
    "    train_X = train_X,\n",
    "    val_X = val_X,\n",
    "    train_Y = train_Y,\n",
    "    val_Y = val_Y)"
   ]
  },
  {
   "cell_type": "code",
   "execution_count": 80,
   "id": "2cb596e9",
   "metadata": {},
   "outputs": [
    {
     "name": "stdout",
     "output_type": "stream",
     "text": [
      "Epoch 500, Training loss 0.0136, Validation loss 0.0144\n",
      "Epoch 1000, Training loss 0.0120, Validation loss 0.0111\n",
      "Epoch 1500, Training loss 0.0118, Validation loss 0.0105\n",
      "Epoch 2000, Training loss 0.0118, Validation loss 0.0104\n",
      "Epoch 2500, Training loss 0.0118, Validation loss 0.0104\n",
      "Epoch 3000, Training loss 0.0118, Validation loss 0.0104\n",
      "Epoch 3500, Training loss 0.0118, Validation loss 0.0104\n",
      "Epoch 4000, Training loss 0.0118, Validation loss 0.0104\n",
      "Epoch 4500, Training loss 0.0118, Validation loss 0.0104\n",
      "Epoch 5000, Training loss 0.0118, Validation loss 0.0104\n"
     ]
    },
    {
     "data": {
      "text/plain": [
       "tensor([0.4426, 0.0927, 0.2979, 0.1320, 0.0960, 0.0339], requires_grad=True)"
      ]
     },
     "execution_count": 80,
     "metadata": {},
     "output_type": "execute_result"
    }
   ],
   "source": [
    "params = torch.tensor([1.0, 1.0, 1.0, 1.0, 1.0, 0.0], requires_grad=True)\n",
    "learning_rate = 0.01\n",
    "optimizer = optim.Adam([params], lr=learning_rate)\n",
    "\n",
    "training_loop(\n",
    "    n_epochs = 5000, \n",
    "    optimizer = optimizer,\n",
    "    params = params,\n",
    "    train_X = train_X,\n",
    "    val_X = val_X,\n",
    "    train_Y = train_Y,\n",
    "    val_Y = val_Y)"
   ]
  },
  {
   "cell_type": "code",
   "execution_count": 81,
   "id": "8ce1a50b",
   "metadata": {},
   "outputs": [
    {
     "name": "stdout",
     "output_type": "stream",
     "text": [
      "Epoch 500, Training loss 0.1296, Validation loss 0.1134\n",
      "Epoch 1000, Training loss 0.0519, Validation loss 0.0480\n",
      "Epoch 1500, Training loss 0.0343, Validation loss 0.0332\n",
      "Epoch 2000, Training loss 0.0230, Validation loss 0.0235\n",
      "Epoch 2500, Training loss 0.0172, Validation loss 0.0184\n",
      "Epoch 3000, Training loss 0.0148, Validation loss 0.0159\n",
      "Epoch 3500, Training loss 0.0137, Validation loss 0.0146\n",
      "Epoch 4000, Training loss 0.0130, Validation loss 0.0135\n",
      "Epoch 4500, Training loss 0.0126, Validation loss 0.0125\n",
      "Epoch 5000, Training loss 0.0122, Validation loss 0.0117\n"
     ]
    },
    {
     "data": {
      "text/plain": [
       "tensor([ 0.4557,  0.2596,  0.2528,  0.1079,  0.0900, -0.0241],\n",
       "       requires_grad=True)"
      ]
     },
     "execution_count": 81,
     "metadata": {},
     "output_type": "execute_result"
    }
   ],
   "source": [
    "params = torch.tensor([1.0, 1.0, 1.0, 1.0, 1.0, 0.0], requires_grad=True)\n",
    "learning_rate = 0.001\n",
    "optimizer = optim.Adam([params], lr=learning_rate)\n",
    "\n",
    "training_loop(\n",
    "    n_epochs = 5000, \n",
    "    optimizer = optimizer,\n",
    "    params = params,\n",
    "    train_X = train_X,\n",
    "    val_X = val_X,\n",
    "    train_Y = train_Y,\n",
    "    val_Y = val_Y)"
   ]
  },
  {
   "cell_type": "code",
   "execution_count": 82,
   "id": "302fe0e7",
   "metadata": {},
   "outputs": [
    {
     "name": "stdout",
     "output_type": "stream",
     "text": [
      "Epoch 500, Training loss 1.0156, Validation loss 0.9287\n",
      "Epoch 1000, Training loss 0.8172, Validation loss 0.7443\n",
      "Epoch 1500, Training loss 0.6499, Validation loss 0.5892\n",
      "Epoch 2000, Training loss 0.5103, Validation loss 0.4601\n",
      "Epoch 2500, Training loss 0.3951, Validation loss 0.3541\n",
      "Epoch 3000, Training loss 0.3019, Validation loss 0.2687\n",
      "Epoch 3500, Training loss 0.2283, Validation loss 0.2017\n",
      "Epoch 4000, Training loss 0.1719, Validation loss 0.1509\n",
      "Epoch 4500, Training loss 0.1305, Validation loss 0.1141\n",
      "Epoch 5000, Training loss 0.1016, Validation loss 0.0888\n"
     ]
    },
    {
     "data": {
      "text/plain": [
       "tensor([ 0.6147,  0.6150,  0.5916,  0.5953,  0.5937, -0.3704],\n",
       "       requires_grad=True)"
      ]
     },
     "execution_count": 82,
     "metadata": {},
     "output_type": "execute_result"
    }
   ],
   "source": [
    "params = torch.tensor([1.0, 1.0, 1.0, 1.0, 1.0, 0.0], requires_grad=True)\n",
    "learning_rate = 0.0001\n",
    "optimizer = optim.Adam([params], lr=learning_rate)\n",
    "\n",
    "training_loop(\n",
    "    n_epochs = 5000, \n",
    "    optimizer = optimizer,\n",
    "    params = params,\n",
    "    train_X = train_X,\n",
    "    val_X = val_X,\n",
    "    train_Y = train_Y,\n",
    "    val_Y = val_Y)"
   ]
  }
 ],
 "metadata": {
  "kernelspec": {
   "display_name": "Python 3 (ipykernel)",
   "language": "python",
   "name": "python3"
  },
  "language_info": {
   "codemirror_mode": {
    "name": "ipython",
    "version": 3
   },
   "file_extension": ".py",
   "mimetype": "text/x-python",
   "name": "python",
   "nbconvert_exporter": "python",
   "pygments_lexer": "ipython3",
   "version": "3.9.13"
  }
 },
 "nbformat": 4,
 "nbformat_minor": 5
}
